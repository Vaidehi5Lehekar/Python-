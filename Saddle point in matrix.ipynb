{
 "cells": [
  {
   "cell_type": "code",
   "execution_count": null,
   "metadata": {},
   "outputs": [],
   "source": []
  },
  {
   "cell_type": "code",
   "execution_count": 1,
   "metadata": {},
   "outputs": [
    {
     "name": "stdout",
     "output_type": "stream",
     "text": [
      "Enter the number of rows3\n",
      "Enter the number of columns3\n",
      "Enter the element: \n",
      "1\n",
      "2\n",
      "3\n",
      "4\n",
      "5\n",
      "6\n",
      "7\n",
      "8\n",
      "9\n",
      "1 2 3 \n",
      "4 5 6 \n",
      "7 8 9 \n",
      "Saddle point is:  7\n"
     ]
    }
   ],
   "source": [
    "r = int(input(\"Enter the number of rows\"))\n",
    "c = int(input(\"Enter the number of columns\"))\n",
    "mat1=[]\n",
    "print(\"Enter the element: \")\n",
    "for i in range (r):\n",
    "    b=[]\n",
    "    for j in range(c):\n",
    "        b.append(int(input()))\n",
    "    mat1.append(b) \n",
    "for i in range(r):\n",
    "    for j in range(c):\n",
    "        print(mat1[i][j], end= \" \")\n",
    "    print()\n",
    "\n",
    "f=0\n",
    "for i in range(r):\n",
    "    min= mat1[i][0]\n",
    "    s=0\n",
    "    for j in range(c):\n",
    "        if (mat1[i][j]< min):\n",
    "            min = mat1[i][j] \n",
    "            s= j\n",
    "\n",
    "            \n",
    "    max = mat1[i][s]\n",
    "    for k in range(r):\n",
    "        if (mat1[k][s]>max):\n",
    "            max =mat1[k][s]\n",
    "            break\n",
    "    else:\n",
    "        print(\"Saddle point is: \" ,min)\n",
    "        f=1\n",
    "if f==0 :\n",
    "    print(\"No Saddle Point\")\n",
    "            \n",
    "     "
   ]
  },
  {
   "cell_type": "markdown",
   "metadata": {},
   "source": [
    "### "
   ]
  },
  {
   "cell_type": "code",
   "execution_count": null,
   "metadata": {},
   "outputs": [],
   "source": []
  }
 ],
 "metadata": {
  "kernelspec": {
   "display_name": "Python 3",
   "language": "python",
   "name": "python3"
  },
  "language_info": {
   "codemirror_mode": {
    "name": "ipython",
    "version": 3
   },
   "file_extension": ".py",
   "mimetype": "text/x-python",
   "name": "python",
   "nbconvert_exporter": "python",
   "pygments_lexer": "ipython3",
   "version": "3.7.6"
  }
 },
 "nbformat": 4,
 "nbformat_minor": 4
}
