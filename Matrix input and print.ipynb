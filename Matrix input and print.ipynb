{
 "cells": [
  {
   "cell_type": "code",
   "execution_count": 2,
   "metadata": {},
   "outputs": [
    {
     "ename": "SyntaxError",
     "evalue": "invalid syntax (<ipython-input-2-bdaf69dcaf50>, line 22)",
     "output_type": "error",
     "traceback": [
      "\u001b[1;36m  File \u001b[1;32m\"<ipython-input-2-bdaf69dcaf50>\"\u001b[1;36m, line \u001b[1;32m22\u001b[0m\n\u001b[1;33m    if mat1[i[0]]>mat1[i[1:]]\u001b[0m\n\u001b[1;37m                             ^\u001b[0m\n\u001b[1;31mSyntaxError\u001b[0m\u001b[1;31m:\u001b[0m invalid syntax\n"
     ]
    }
   ],
   "source": []
  },
  {
   "cell_type": "code",
   "execution_count": null,
   "metadata": {},
   "outputs": [],
   "source": [
    "row = int(input(\"Enter the number of rows: \"))\n",
    "column= int(input(\"Enter the number of columns: \"))\n",
    "mat =[]\n",
    "print(\"Enter the entries row wise: \")\n",
    "for i in range(row):\n",
    "    entry = []\n",
    "    for j in range(column):\n",
    "        a.append(int(input()))\n",
    "    mat.append(entry)\n",
    "for i in range(row):\n",
    "    for j in range(column):\n",
    "        print(mat[i][j], end =\" \")\n",
    "    print()\n",
    "    "
   ]
  }
 ],
 "metadata": {
  "kernelspec": {
   "display_name": "Python 3",
   "language": "python",
   "name": "python3"
  },
  "language_info": {
   "codemirror_mode": {
    "name": "ipython",
    "version": 3
   },
   "file_extension": ".py",
   "mimetype": "text/x-python",
   "name": "python",
   "nbconvert_exporter": "python",
   "pygments_lexer": "ipython3",
   "version": "3.8.5"
  }
 },
 "nbformat": 4,
 "nbformat_minor": 4
}
